{
 "cells": [
  {
   "cell_type": "code",
   "execution_count": 1,
   "id": "995adef3",
   "metadata": {
    "scrolled": false
   },
   "outputs": [
    {
     "name": "stdout",
     "output_type": "stream",
     "text": [
      "Requirement already satisfied: statsmodels in ./anaconda3/lib/python3.11/site-packages (0.14.1)\n",
      "Requirement already satisfied: numpy<2,>=1.18 in ./anaconda3/lib/python3.11/site-packages (from statsmodels) (1.24.3)\n",
      "Requirement already satisfied: scipy!=1.9.2,>=1.4 in ./anaconda3/lib/python3.11/site-packages (from statsmodels) (1.11.1)\n",
      "Requirement already satisfied: pandas!=2.1.0,>=1.0 in ./anaconda3/lib/python3.11/site-packages (from statsmodels) (1.3.4)\n",
      "Requirement already satisfied: patsy>=0.5.4 in ./anaconda3/lib/python3.11/site-packages (from statsmodels) (0.5.6)\n",
      "Requirement already satisfied: packaging>=21.3 in ./anaconda3/lib/python3.11/site-packages (from statsmodels) (23.1)\n",
      "Requirement already satisfied: python-dateutil>=2.7.3 in ./anaconda3/lib/python3.11/site-packages (from pandas!=2.1.0,>=1.0->statsmodels) (2.8.2)\n",
      "Requirement already satisfied: pytz>=2017.3 in ./anaconda3/lib/python3.11/site-packages (from pandas!=2.1.0,>=1.0->statsmodels) (2023.3.post1)\n",
      "Requirement already satisfied: six in ./anaconda3/lib/python3.11/site-packages (from patsy>=0.5.4->statsmodels) (1.16.0)\n",
      "Note: you may need to restart the kernel to use updated packages.\n"
     ]
    }
   ],
   "source": [
    "pip install --upgrade statsmodels"
   ]
  },
  {
   "cell_type": "code",
   "execution_count": 213,
   "id": "fba51574",
   "metadata": {},
   "outputs": [
    {
     "name": "stdout",
     "output_type": "stream",
     "text": [
      "Requirement already satisfied: tabulate in ./anaconda3/lib/python3.11/site-packages (0.8.10)\n",
      "Note: you may need to restart the kernel to use updated packages.\n"
     ]
    }
   ],
   "source": [
    "pip install tabulate"
   ]
  },
  {
   "cell_type": "code",
   "execution_count": 2,
   "id": "961e255d",
   "metadata": {},
   "outputs": [
    {
     "name": "stdout",
     "output_type": "stream",
     "text": [
      "Requirement already satisfied: xgboost in ./anaconda3/lib/python3.11/site-packages (2.0.3)\n",
      "Requirement already satisfied: numpy in ./anaconda3/lib/python3.11/site-packages (from xgboost) (1.24.3)\n",
      "Requirement already satisfied: scipy in ./anaconda3/lib/python3.11/site-packages (from xgboost) (1.11.1)\n",
      "Note: you may need to restart the kernel to use updated packages.\n"
     ]
    }
   ],
   "source": [
    "pip install xgboost"
   ]
  },
  {
   "cell_type": "code",
   "execution_count": 175,
   "id": "77509204",
   "metadata": {},
   "outputs": [],
   "source": [
    "import pandas as pd\n",
    "import numpy as np\n",
    "import matplotlib.pyplot as plt\n",
    "import seaborn as sns\n",
    "import statsmodels.api as sm\n",
    "from statsmodels.formula.api import ols\n",
    "import scipy.stats as stats\n",
    "from sklearn.preprocessing import OneHotEncoder\n",
    "from sklearn import tree\n",
    "from sklearn.feature_selection import mutual_info_regression\n",
    "from sklearn.feature_selection import VarianceThreshold\n",
    "from sklearn.feature_selection import f_regression\n",
    "from sklearn.linear_model import ElasticNet\n",
    "from sklearn.model_selection import cross_val_score\n",
    "from itertools import product\n",
    "from sklearn.ensemble import RandomForestRegressor\n",
    "from boruta import BorutaPy as bp\n",
    "import os\n",
    "from pmdarima.arima import auto_arima"
   ]
  },
  {
   "cell_type": "code",
   "execution_count": 176,
   "id": "b17e709a",
   "metadata": {},
   "outputs": [],
   "source": [
    "raw_input_data_path = \"/Users/filipecorreia/Desktop/ML_1/Clean_Dataset2.csv\"\n",
    "preprocessed_output_data_path = \"/Users/filipecorreia/Desktop/ML_1/Clean_Dataset2.csv\""
   ]
  },
  {
   "cell_type": "code",
   "execution_count": 177,
   "id": "4dcbb4ad",
   "metadata": {},
   "outputs": [
    {
     "data": {
      "text/html": [
       "<div>\n",
       "<style scoped>\n",
       "    .dataframe tbody tr th:only-of-type {\n",
       "        vertical-align: middle;\n",
       "    }\n",
       "\n",
       "    .dataframe tbody tr th {\n",
       "        vertical-align: top;\n",
       "    }\n",
       "\n",
       "    .dataframe thead th {\n",
       "        text-align: right;\n",
       "    }\n",
       "</style>\n",
       "<table border=\"1\" class=\"dataframe\">\n",
       "  <thead>\n",
       "    <tr style=\"text-align: right;\">\n",
       "      <th></th>\n",
       "      <th>Unnamed: 0</th>\n",
       "      <th>airline</th>\n",
       "      <th>departure_time</th>\n",
       "      <th>stops</th>\n",
       "      <th>arrival_time</th>\n",
       "      <th>class</th>\n",
       "      <th>duration</th>\n",
       "      <th>days_left</th>\n",
       "      <th>price</th>\n",
       "    </tr>\n",
       "  </thead>\n",
       "  <tbody>\n",
       "    <tr>\n",
       "      <th>238770</th>\n",
       "      <td>238770</td>\n",
       "      <td>5</td>\n",
       "      <td>0</td>\n",
       "      <td>0</td>\n",
       "      <td>5</td>\n",
       "      <td>0</td>\n",
       "      <td>0.197347</td>\n",
       "      <td>0.250000</td>\n",
       "      <td>0.366496</td>\n",
       "    </tr>\n",
       "    <tr>\n",
       "      <th>284104</th>\n",
       "      <td>284104</td>\n",
       "      <td>1</td>\n",
       "      <td>1</td>\n",
       "      <td>0</td>\n",
       "      <td>2</td>\n",
       "      <td>0</td>\n",
       "      <td>0.241633</td>\n",
       "      <td>0.500000</td>\n",
       "      <td>0.414886</td>\n",
       "    </tr>\n",
       "    <tr>\n",
       "      <th>300079</th>\n",
       "      <td>300079</td>\n",
       "      <td>5</td>\n",
       "      <td>5</td>\n",
       "      <td>0</td>\n",
       "      <td>0</td>\n",
       "      <td>0</td>\n",
       "      <td>0.304490</td>\n",
       "      <td>0.979167</td>\n",
       "      <td>0.327624</td>\n",
       "    </tr>\n",
       "    <tr>\n",
       "      <th>61793</th>\n",
       "      <td>61793</td>\n",
       "      <td>3</td>\n",
       "      <td>4</td>\n",
       "      <td>0</td>\n",
       "      <td>2</td>\n",
       "      <td>1</td>\n",
       "      <td>0.163265</td>\n",
       "      <td>0.041667</td>\n",
       "      <td>0.089566</td>\n",
       "    </tr>\n",
       "    <tr>\n",
       "      <th>172044</th>\n",
       "      <td>172044</td>\n",
       "      <td>5</td>\n",
       "      <td>4</td>\n",
       "      <td>0</td>\n",
       "      <td>2</td>\n",
       "      <td>1</td>\n",
       "      <td>0.153061</td>\n",
       "      <td>0.270833</td>\n",
       "      <td>0.080818</td>\n",
       "    </tr>\n",
       "    <tr>\n",
       "      <th>115779</th>\n",
       "      <td>115779</td>\n",
       "      <td>1</td>\n",
       "      <td>2</td>\n",
       "      <td>0</td>\n",
       "      <td>5</td>\n",
       "      <td>1</td>\n",
       "      <td>0.523878</td>\n",
       "      <td>0.062500</td>\n",
       "      <td>0.122075</td>\n",
       "    </tr>\n",
       "    <tr>\n",
       "      <th>204978</th>\n",
       "      <td>204978</td>\n",
       "      <td>5</td>\n",
       "      <td>4</td>\n",
       "      <td>0</td>\n",
       "      <td>1</td>\n",
       "      <td>1</td>\n",
       "      <td>0.433673</td>\n",
       "      <td>0.604167</td>\n",
       "      <td>0.035895</td>\n",
       "    </tr>\n",
       "    <tr>\n",
       "      <th>131129</th>\n",
       "      <td>131129</td>\n",
       "      <td>5</td>\n",
       "      <td>2</td>\n",
       "      <td>0</td>\n",
       "      <td>4</td>\n",
       "      <td>1</td>\n",
       "      <td>0.326531</td>\n",
       "      <td>0.479167</td>\n",
       "      <td>0.053015</td>\n",
       "    </tr>\n",
       "    <tr>\n",
       "      <th>35827</th>\n",
       "      <td>35827</td>\n",
       "      <td>3</td>\n",
       "      <td>4</td>\n",
       "      <td>2</td>\n",
       "      <td>4</td>\n",
       "      <td>1</td>\n",
       "      <td>0.040816</td>\n",
       "      <td>0.104167</td>\n",
       "      <td>0.051818</td>\n",
       "    </tr>\n",
       "    <tr>\n",
       "      <th>28670</th>\n",
       "      <td>28670</td>\n",
       "      <td>1</td>\n",
       "      <td>1</td>\n",
       "      <td>0</td>\n",
       "      <td>0</td>\n",
       "      <td>1</td>\n",
       "      <td>0.144694</td>\n",
       "      <td>1.000000</td>\n",
       "      <td>0.026893</td>\n",
       "    </tr>\n",
       "  </tbody>\n",
       "</table>\n",
       "</div>"
      ],
      "text/plain": [
       "        Unnamed: 0  airline  departure_time  stops  arrival_time  class  \\\n",
       "238770      238770        5               0      0             5      0   \n",
       "284104      284104        1               1      0             2      0   \n",
       "300079      300079        5               5      0             0      0   \n",
       "61793        61793        3               4      0             2      1   \n",
       "172044      172044        5               4      0             2      1   \n",
       "115779      115779        1               2      0             5      1   \n",
       "204978      204978        5               4      0             1      1   \n",
       "131129      131129        5               2      0             4      1   \n",
       "35827        35827        3               4      2             4      1   \n",
       "28670        28670        1               1      0             0      1   \n",
       "\n",
       "        duration  days_left     price  \n",
       "238770  0.197347   0.250000  0.366496  \n",
       "284104  0.241633   0.500000  0.414886  \n",
       "300079  0.304490   0.979167  0.327624  \n",
       "61793   0.163265   0.041667  0.089566  \n",
       "172044  0.153061   0.270833  0.080818  \n",
       "115779  0.523878   0.062500  0.122075  \n",
       "204978  0.433673   0.604167  0.035895  \n",
       "131129  0.326531   0.479167  0.053015  \n",
       "35827   0.040816   0.104167  0.051818  \n",
       "28670   0.144694   1.000000  0.026893  "
      ]
     },
     "execution_count": 177,
     "metadata": {},
     "output_type": "execute_result"
    }
   ],
   "source": [
    "df=pd.read_csv('/Users/filipecorreia/Desktop/ML_1/Clean_Dataset2.csv')\n",
    "df.sample(10)"
   ]
  },
  {
   "cell_type": "code",
   "execution_count": 178,
   "id": "5a3e38fa",
   "metadata": {},
   "outputs": [
    {
     "data": {
      "text/html": [
       "<div>\n",
       "<style scoped>\n",
       "    .dataframe tbody tr th:only-of-type {\n",
       "        vertical-align: middle;\n",
       "    }\n",
       "\n",
       "    .dataframe tbody tr th {\n",
       "        vertical-align: top;\n",
       "    }\n",
       "\n",
       "    .dataframe thead th {\n",
       "        text-align: right;\n",
       "    }\n",
       "</style>\n",
       "<table border=\"1\" class=\"dataframe\">\n",
       "  <thead>\n",
       "    <tr style=\"text-align: right;\">\n",
       "      <th></th>\n",
       "      <th>airline</th>\n",
       "      <th>departure_time</th>\n",
       "      <th>stops</th>\n",
       "      <th>arrival_time</th>\n",
       "      <th>class</th>\n",
       "      <th>duration</th>\n",
       "      <th>days_left</th>\n",
       "      <th>price</th>\n",
       "    </tr>\n",
       "  </thead>\n",
       "  <tbody>\n",
       "    <tr>\n",
       "      <th>0</th>\n",
       "      <td>4</td>\n",
       "      <td>2</td>\n",
       "      <td>2</td>\n",
       "      <td>5</td>\n",
       "      <td>1</td>\n",
       "      <td>0.027347</td>\n",
       "      <td>0.0</td>\n",
       "      <td>0.039749</td>\n",
       "    </tr>\n",
       "    <tr>\n",
       "      <th>1</th>\n",
       "      <td>4</td>\n",
       "      <td>1</td>\n",
       "      <td>2</td>\n",
       "      <td>4</td>\n",
       "      <td>1</td>\n",
       "      <td>0.030612</td>\n",
       "      <td>0.0</td>\n",
       "      <td>0.039749</td>\n",
       "    </tr>\n",
       "    <tr>\n",
       "      <th>2</th>\n",
       "      <td>0</td>\n",
       "      <td>1</td>\n",
       "      <td>2</td>\n",
       "      <td>1</td>\n",
       "      <td>1</td>\n",
       "      <td>0.027347</td>\n",
       "      <td>0.0</td>\n",
       "      <td>0.039773</td>\n",
       "    </tr>\n",
       "    <tr>\n",
       "      <th>3</th>\n",
       "      <td>5</td>\n",
       "      <td>4</td>\n",
       "      <td>2</td>\n",
       "      <td>0</td>\n",
       "      <td>1</td>\n",
       "      <td>0.028980</td>\n",
       "      <td>0.0</td>\n",
       "      <td>0.039765</td>\n",
       "    </tr>\n",
       "    <tr>\n",
       "      <th>4</th>\n",
       "      <td>5</td>\n",
       "      <td>4</td>\n",
       "      <td>2</td>\n",
       "      <td>4</td>\n",
       "      <td>1</td>\n",
       "      <td>0.030612</td>\n",
       "      <td>0.0</td>\n",
       "      <td>0.039765</td>\n",
       "    </tr>\n",
       "    <tr>\n",
       "      <th>...</th>\n",
       "      <td>...</td>\n",
       "      <td>...</td>\n",
       "      <td>...</td>\n",
       "      <td>...</td>\n",
       "      <td>...</td>\n",
       "      <td>...</td>\n",
       "      <td>...</td>\n",
       "      <td>...</td>\n",
       "    </tr>\n",
       "    <tr>\n",
       "      <th>300148</th>\n",
       "      <td>5</td>\n",
       "      <td>4</td>\n",
       "      <td>0</td>\n",
       "      <td>2</td>\n",
       "      <td>0</td>\n",
       "      <td>0.188776</td>\n",
       "      <td>1.0</td>\n",
       "      <td>0.558844</td>\n",
       "    </tr>\n",
       "    <tr>\n",
       "      <th>300149</th>\n",
       "      <td>5</td>\n",
       "      <td>0</td>\n",
       "      <td>0</td>\n",
       "      <td>5</td>\n",
       "      <td>0</td>\n",
       "      <td>0.195714</td>\n",
       "      <td>1.0</td>\n",
       "      <td>0.623124</td>\n",
       "    </tr>\n",
       "    <tr>\n",
       "      <th>300150</th>\n",
       "      <td>5</td>\n",
       "      <td>1</td>\n",
       "      <td>0</td>\n",
       "      <td>5</td>\n",
       "      <td>0</td>\n",
       "      <td>0.265306</td>\n",
       "      <td>1.0</td>\n",
       "      <td>0.639473</td>\n",
       "    </tr>\n",
       "    <tr>\n",
       "      <th>300151</th>\n",
       "      <td>5</td>\n",
       "      <td>1</td>\n",
       "      <td>0</td>\n",
       "      <td>2</td>\n",
       "      <td>0</td>\n",
       "      <td>0.187143</td>\n",
       "      <td>1.0</td>\n",
       "      <td>0.659856</td>\n",
       "    </tr>\n",
       "    <tr>\n",
       "      <th>300152</th>\n",
       "      <td>5</td>\n",
       "      <td>4</td>\n",
       "      <td>0</td>\n",
       "      <td>2</td>\n",
       "      <td>0</td>\n",
       "      <td>0.188776</td>\n",
       "      <td>1.0</td>\n",
       "      <td>0.659856</td>\n",
       "    </tr>\n",
       "  </tbody>\n",
       "</table>\n",
       "<p>300153 rows × 8 columns</p>\n",
       "</div>"
      ],
      "text/plain": [
       "        airline  departure_time  stops  arrival_time  class  duration  \\\n",
       "0             4               2      2             5      1  0.027347   \n",
       "1             4               1      2             4      1  0.030612   \n",
       "2             0               1      2             1      1  0.027347   \n",
       "3             5               4      2             0      1  0.028980   \n",
       "4             5               4      2             4      1  0.030612   \n",
       "...         ...             ...    ...           ...    ...       ...   \n",
       "300148        5               4      0             2      0  0.188776   \n",
       "300149        5               0      0             5      0  0.195714   \n",
       "300150        5               1      0             5      0  0.265306   \n",
       "300151        5               1      0             2      0  0.187143   \n",
       "300152        5               4      0             2      0  0.188776   \n",
       "\n",
       "        days_left     price  \n",
       "0             0.0  0.039749  \n",
       "1             0.0  0.039749  \n",
       "2             0.0  0.039773  \n",
       "3             0.0  0.039765  \n",
       "4             0.0  0.039765  \n",
       "...           ...       ...  \n",
       "300148        1.0  0.558844  \n",
       "300149        1.0  0.623124  \n",
       "300150        1.0  0.639473  \n",
       "300151        1.0  0.659856  \n",
       "300152        1.0  0.659856  \n",
       "\n",
       "[300153 rows x 8 columns]"
      ]
     },
     "execution_count": 178,
     "metadata": {},
     "output_type": "execute_result"
    }
   ],
   "source": [
    "df=df.drop('Unnamed: 0',axis=1)\n",
    "df"
   ]
  },
  {
   "cell_type": "code",
   "execution_count": 179,
   "id": "17972cc3",
   "metadata": {},
   "outputs": [],
   "source": [
    "Y = df[\"price\"]\n",
    "X = df.drop([\"price\"], axis=1)"
   ]
  },
  {
   "cell_type": "code",
   "execution_count": 180,
   "id": "544d95cc",
   "metadata": {},
   "outputs": [],
   "source": [
    "from sklearn.model_selection import KFold\n",
    "\n",
    "kf = KFold(n_splits=10, shuffle=True, random_state=7)\n",
    "\n",
    "for train_index, test_index in kf.split(X):\n",
    "    X_train, X_test = X.iloc[train_index], X.iloc[test_index]\n",
    "    Y_train, Y_test = Y.iloc[train_index], Y.iloc[test_index]"
   ]
  },
  {
   "cell_type": "markdown",
   "id": "a74cf168",
   "metadata": {},
   "source": [
    "# OLS Model"
   ]
  },
  {
   "cell_type": "code",
   "execution_count": 181,
   "id": "f7b5c13a",
   "metadata": {},
   "outputs": [
    {
     "name": "stdout",
     "output_type": "stream",
     "text": [
      "                            OLS Regression Results                            \n",
      "==============================================================================\n",
      "Dep. Variable:                  price   R-squared:                       0.905\n",
      "Model:                            OLS   Adj. R-squared:                  0.905\n",
      "Method:                 Least Squares   F-statistic:                 3.656e+05\n",
      "Date:                Mon, 15 Jan 2024   Prob (F-statistic):               0.00\n",
      "Time:                        16:06:54   Log-Likelihood:             3.8836e+05\n",
      "No. Observations:              270138   AIC:                        -7.767e+05\n",
      "Df Residuals:                  270130   BIC:                        -7.766e+05\n",
      "Df Model:                           7                                         \n",
      "Covariance Type:            nonrobust                                         \n",
      "==================================================================================\n",
      "                     coef    std err          t      P>|t|      [0.025      0.975]\n",
      "----------------------------------------------------------------------------------\n",
      "const              0.4100      0.001    814.738      0.000       0.409       0.411\n",
      "airline            0.0077   6.15e-05    125.931      0.000       0.008       0.008\n",
      "departure_time     0.0003   6.35e-05      4.691      0.000       0.000       0.000\n",
      "stops             -0.0268      0.000   -141.832      0.000      -0.027      -0.026\n",
      "arrival_time       0.0015   6.36e-05     24.149      0.000       0.001       0.002\n",
      "class             -0.3651      0.000  -1487.436      0.000      -0.366      -0.365\n",
      "duration           0.0373      0.001     43.155      0.000       0.036       0.039\n",
      "days_left         -0.0519      0.000   -132.310      0.000      -0.053      -0.051\n",
      "==============================================================================\n",
      "Omnibus:                    36398.758   Durbin-Watson:                   0.346\n",
      "Prob(Omnibus):                  0.000   Jarque-Bera (JB):           323959.443\n",
      "Skew:                           0.357   Prob(JB):                         0.00\n",
      "Kurtosis:                       8.317   Cond. No.                         45.3\n",
      "==============================================================================\n",
      "\n",
      "Notes:\n",
      "[1] Standard Errors assume that the covariance matrix of the errors is correctly specified.\n"
     ]
    }
   ],
   "source": [
    "    X_train_ols = sm.add_constant(X_train) \n",
    "    ols_model = sm.OLS(Y_train, X_train_ols).fit()\n",
    "\n",
    "    print(ols_model.summary())"
   ]
  },
  {
   "cell_type": "code",
   "execution_count": 182,
   "id": "edecdde0",
   "metadata": {},
   "outputs": [
    {
     "name": "stdout",
     "output_type": "stream",
     "text": [
      "VIF:\n",
      "         Variable       VIF\n",
      "0         airline  3.266920\n",
      "1  departure_time  2.721746\n",
      "2           stops  1.407105\n",
      "3    arrival_time  3.507962\n",
      "4           class  2.684026\n",
      "5        duration  3.535065\n",
      "6       days_left  3.598289\n"
     ]
    }
   ],
   "source": [
    "from statsmodels.stats.outliers_influence import variance_inflation_factor\n",
    "\n",
    "vif_data = pd.DataFrame()\n",
    "vif_data[\"Variable\"] = X.columns\n",
    "vif_data[\"VIF\"] = [variance_inflation_factor(X.values, i) for i in range(X.shape[1])]\n",
    "print(\"VIF:\")\n",
    "print(vif_data)"
   ]
  },
  {
   "cell_type": "code",
   "execution_count": 183,
   "id": "045b25f0",
   "metadata": {},
   "outputs": [
    {
     "name": "stdout",
     "output_type": "stream",
     "text": [
      "Mean Absolute Error: 0.03826002417378716\n",
      "Mean Squared Error: 0.0033559137736399298\n",
      "Root Mean Squared Error: 0.05793024921092546\n",
      "R2 Score: 0.9042753737744922\n",
      "Adjusted R2 Score: 0.9042530432388313\n",
      "Root Mean Squared Log Error: 0.04382364902170782\n"
     ]
    }
   ],
   "source": [
    "from sklearn.metrics import mean_absolute_error, mean_squared_error, r2_score, mean_absolute_percentage_error\n",
    "import numpy as np\n",
    "\n",
    "Y_pred = ols_model.predict(sm.add_constant(X_test))\n",
    "\n",
    "# Calculate Mean Absolute Error\n",
    "mae = mean_absolute_error(Y_test, Y_pred)\n",
    "\n",
    "# Calculate Mean Squared Error\n",
    "mse = mean_squared_error(Y_test, Y_pred)\n",
    "\n",
    "# Calculate Root Mean Squared Error\n",
    "rmse = np.sqrt(mse)\n",
    "\n",
    "# Calculate R2 Score\n",
    "r2 = r2_score(Y_test, Y_pred)\n",
    "\n",
    "# Calculate Adjusted R2 Score\n",
    "n = len(Y_test)\n",
    "p = X_test.shape[1]\n",
    "adj_r2 = 1 - (1 - r2) * (n - 1) / (n - p - 1)\n",
    "\n",
    "# Calculate Root Mean Squared Log Error\n",
    "rmsle = np.sqrt(mean_squared_error(np.log1p(Y_test), np.log1p(Y_pred)))\n",
    "\n",
    "# Print the results\n",
    "print(\"Mean Absolute Error:\", mae)\n",
    "print(\"Mean Squared Error:\", mse)\n",
    "print(\"Root Mean Squared Error:\", rmse)\n",
    "print(\"R2 Score:\", r2)\n",
    "print(\"Adjusted R2 Score:\", adj_r2)\n",
    "print(\"Root Mean Squared Log Error:\", rmsle)"
   ]
  },
  {
   "cell_type": "code",
   "execution_count": 184,
   "id": "36ef4669",
   "metadata": {},
   "outputs": [
    {
     "data": {
      "image/png": "[encoded data removed]",
      "text/plain": [
       "<Figure size 1500x500 with 1 Axes>"
      ]
     },
     "metadata": {},
     "output_type": "display_data"
    }
   ],
   "source": [
    "df_ols_model = pd.DataFrame({'Actual': Y_test.to_numpy(), 'Predicted': Y_pred})\n",
    "df1 = df_ols_model.head(25)\n",
    "df1.plot(kind='bar', figsize=(15, 5))\n",
    "plt.grid(which='major', linestyle='-', linewidth='0.1')\n",
    "plt.grid(which='minor', linestyle=':', linewidth='0.1')\n",
    "plt.show()"
   ]
  },
  {
   "cell_type": "markdown",
   "id": "ed261900",
   "metadata": {},
   "source": [
    "# KNN Model"
   ]
  },
  {
   "cell_type": "code",
   "execution_count": 185,
   "id": "e790aba3",
   "metadata": {},
   "outputs": [
    {
     "name": "stdout",
     "output_type": "stream",
     "text": [
      "Best value for k: 29\n"
     ]
    }
   ],
   "source": [
    "from sklearn.model_selection import RandomizedSearchCV\n",
    "\n",
    "param_dist = {'n_neighbors': range(1, 31)}\n",
    "\n",
    "knn_model = KNeighborsRegressor()\n",
    "\n",
    "random_search = RandomizedSearchCV(knn_model, param_distributions=param_dist, n_iter=20, scoring='neg_mean_squared_error', cv=5, random_state=42)\n",
    "\n",
    "random_search.fit(X_train, Y_train)\n",
    "\n",
    "best_k = random_search.best_params_['n_neighbors']\n",
    "\n",
    "print(\"Best value for k:\", best_k)\n"
   ]
  },
  {
   "cell_type": "markdown",
   "id": "a5b4e70b",
   "metadata": {},
   "source": [
    "Outcome: We used RandomizedSearchCV to tune the hyperparameter 'n_neighbors' for a KNeighborsRegressor model. It searches through a range of values, performs cross-validation, and prints the best value found. The goal is to enhance the performance of the k-nearest neighbors regression model by identifying the optimal number of neighbors."
   ]
  },
  {
   "cell_type": "code",
   "execution_count": 186,
   "id": "f078cdeb",
   "metadata": {},
   "outputs": [
    {
     "name": "stdout",
     "output_type": "stream",
     "text": [
      "Mean Absolute Error: 0.024674822911188932\n",
      "Mean Squared Error: 0.0017726798539856171\n",
      "Root Mean Squared Error: 0.04210320479471387\n",
      "R2 Score: 0.949435793680655\n",
      "Adjusted R2 Score: 0.949423998118145\n",
      "Root Mean Squared Log Error: 0.03043204577119902\n"
     ]
    }
   ],
   "source": [
    "from sklearn.neighbors import KNeighborsRegressor\n",
    "from sklearn.metrics import mean_absolute_error, mean_squared_error, r2_score, mean_squared_log_error, mean_absolute_percentage_error\n",
    "import numpy as np\n",
    "\n",
    "knn_model = KNeighborsRegressor(n_neighbors=29)  # You can adjust the number of neighbors (n_neighbors) as needed\n",
    "\n",
    "knn_model.fit(X_train, Y_train)\n",
    "\n",
    "Y_pred = knn_model.predict(X_test)\n",
    "\n",
    "mae = mean_absolute_error(Y_test, Y_pred)\n",
    "mse = mean_squared_error(Y_test, Y_pred)\n",
    "rmse = np.sqrt(mse)\n",
    "r2 = r2_score(Y_test, Y_pred)\n",
    "rmsle = np.sqrt(mean_squared_log_error(Y_test, Y_pred))\n",
    "mape = mean_absolute_percentage_error(Y_test, Y_pred)\n",
    "\n",
    "num_features = X_train.shape[1]\n",
    "\n",
    "adj_r2 = 1 - ((1 - r2) * (len(Y_test) - 1) / (len(Y_test) - num_features - 1))\n",
    "\n",
    "# Print the metrics\n",
    "print(\"Mean Absolute Error:\", mae)\n",
    "print(\"Mean Squared Error:\", mse)\n",
    "print(\"Root Mean Squared Error:\", rmse)\n",
    "print(\"R2 Score:\", r2)\n",
    "print(\"Adjusted R2 Score:\", adj_r2)\n",
    "print(\"Root Mean Squared Log Error:\", rmsle)"
   ]
  },
  {
   "cell_type": "code",
   "execution_count": 187,
   "id": "8c30cbe1",
   "metadata": {},
   "outputs": [
    {
     "data": {
      "image/png": "[encoded data removed]",
      "text/plain": [
       "<Figure size 1500x500 with 1 Axes>"
      ]
     },
     "metadata": {},
     "output_type": "display_data"
    }
   ],
   "source": [
    "df_knn_model = pd.DataFrame({'Actual': Y_test.to_numpy().flatten(), 'Predicted': Y_pred.flatten()})\n",
    "df1 = df_knn_model.head(25)\n",
    "df1.plot(kind='bar',figsize=(15, 5))\n",
    "plt.grid(which='major', linestyle='-', linewidth='0.1')\n",
    "plt.grid(which='minor', linestyle=':', linewidth='0.1')\n",
    "plt.show()"
   ]
  },
  {
   "cell_type": "markdown",
   "id": "5b823728",
   "metadata": {},
   "source": [
    "# XGBRegressor"
   ]
  },
  {
   "cell_type": "code",
   "execution_count": 188,
   "id": "fe0a492a",
   "metadata": {},
   "outputs": [
    {
     "name": "stdout",
     "output_type": "stream",
     "text": [
      "Best Parameters: {'learning_rate': 0.1, 'n_estimators': 200}\n",
      "Best Score: -0.04598478903803196\n"
     ]
    }
   ],
   "source": [
    "from sklearn.model_selection import GridSearchCV\n",
    "\n",
    "# Define the parameter grid\n",
    "param_grid = {\n",
    "    'n_estimators': [50, 100, 200],\n",
    "    'learning_rate': [0.01, 0.1, 0.2]\n",
    "}\n",
    "\n",
    "# Create the XGBRegressor\n",
    "XGB = XGBRegressor()\n",
    "\n",
    "# Create GridSearchCV\n",
    "grid_search = GridSearchCV(estimator=XGB, param_grid=param_grid, scoring='neg_mean_squared_error', cv=3)\n",
    "grid_search.fit(X_train, Y_train)\n",
    "\n",
    "# Print the best parameters and their corresponding score\n",
    "print(f'Best Parameters: {grid_search.best_params_}')\n",
    "print(f'Best Score: {grid_search.best_score_}')"
   ]
  },
  {
   "cell_type": "markdown",
   "id": "a52a0116",
   "metadata": {},
   "source": [
    "Outcome: We use GridSearchCV to tune the hyperparameters 'learning_rate' and 'n_estimators' for the XGBoost regression model. It explores different combinations of 'n_estimators' and 'learning_rate', evaluates performance using cross-validation, and prints the best parameters and their corresponding score. The goal is to enhance the XGBoost regression model's effectiveness by identifying the optimal hyperparameter values."
   ]
  },
  {
   "cell_type": "code",
   "execution_count": 189,
   "id": "94f6d550",
   "metadata": {},
   "outputs": [
    {
     "name": "stdout",
     "output_type": "stream",
     "text": [
      "Mean Absolute Error: 0.021738685080916215\n",
      "Mean Squared Error: 0.0013903399596910371\n",
      "Root Mean Squared Error: 0.03728726270043213\n",
      "R2 Score: 0.9603417185467614\n",
      "Adjusted R2 Score: 0.9603324671064251\n",
      "Root Mean Squared Log Error: 0.026962161231592324\n"
     ]
    }
   ],
   "source": [
    "import xgboost\n",
    "from xgboost import XGBRegressor\n",
    "\n",
    "XGB = XGBRegressor(n_estimators=200, learning_rate=0.1)\n",
    "XGB.fit(X_train,Y_train)\n",
    "Y_pred = XGB.predict(X_test)\n",
    "\n",
    "mae = mean_absolute_error(Y_test, Y_pred)\n",
    "mse = mean_squared_error(Y_test, Y_pred)\n",
    "rmse = np.sqrt(mse)\n",
    "r2 = r2_score(Y_test, Y_pred)\n",
    "rmsle = np.sqrt(mean_squared_log_error(Y_test, Y_pred))\n",
    "mape = mean_absolute_percentage_error(Y_test, Y_pred)\n",
    "\n",
    "num_features = X_train.shape[1]\n",
    "\n",
    "adj_r2 = 1 - ((1 - r2) * (len(Y_test) - 1) / (len(Y_test) - num_features - 1))\n",
    "\n",
    "print(\"Mean Absolute Error:\", mae)\n",
    "print(\"Mean Squared Error:\", mse)\n",
    "print(\"Root Mean Squared Error:\", rmse)\n",
    "print(\"R2 Score:\", r2)\n",
    "print(\"Adjusted R2 Score:\", adj_r2)\n",
    "print(\"Root Mean Squared Log Error:\", rmsle)"
   ]
  },
  {
   "cell_type": "code",
   "execution_count": 191,
   "id": "1abfc3c4",
   "metadata": {},
   "outputs": [
    {
     "data": {
      "image/png": "[encoded data removed]",
      "text/plain": [
       "<Figure size 1500x500 with 1 Axes>"
      ]
     },
     "metadata": {},
     "output_type": "display_data"
    }
   ],
   "source": [
    "df_xgb = pd.DataFrame({'Actual': Y_test.to_numpy().flatten(), 'Predicted': Y_pred.flatten()})\n",
    "df1 = df_xgb.head(25)\n",
    "df1.plot(kind='bar',figsize=(15,5))\n",
    "plt.grid(which='major', linestyle='-', linewidth='0.1')\n",
    "plt.grid(which='minor', linestyle=':', linewidth='0.1')\n",
    "plt.show()"
   ]
  },
  {
   "cell_type": "markdown",
   "id": "f7b66c83",
   "metadata": {},
   "source": [
    "# Final models comparison and summary"
   ]
  },
  {
   "cell_type": "code",
   "execution_count": 218,
   "id": "83f84705",
   "metadata": {},
   "outputs": [
    {
     "name": "stdout",
     "output_type": "stream",
     "text": [
      "╒═════════════════════════════╤════════════╤════════════╤════════════════╕\n",
      "│ Metric                      │        OLS │        knn │   XGBRegressor │\n",
      "╞═════════════════════════════╪════════════╪════════════╪════════════════╡\n",
      "│ Mean Absolute Error         │ 0.03826    │ 0.0246748  │     0.0217387  │\n",
      "├─────────────────────────────┼────────────┼────────────┼────────────────┤\n",
      "│ Mean Squared Error          │ 0.00335591 │ 0.00177268 │     0.00139034 │\n",
      "├─────────────────────────────┼────────────┼────────────┼────────────────┤\n",
      "│ Root Mean Squared Error     │ 0.0579302  │ 0.0421032  │     0.0372873  │\n",
      "├─────────────────────────────┼────────────┼────────────┼────────────────┤\n",
      "│ R2 Score                    │ 0.904275   │ 0.949436   │     0.960342   │\n",
      "├─────────────────────────────┼────────────┼────────────┼────────────────┤\n",
      "│ Adjusted R2 Score           │ 0.904253   │ 0.949424   │     0.960332   │\n",
      "├─────────────────────────────┼────────────┼────────────┼────────────────┤\n",
      "│ Root Mean Squared Log Error │ 0.0438236  │ 0.030432   │     0.0269622  │\n",
      "╘═════════════════════════════╧════════════╧════════════╧════════════════╛\n"
     ]
    }
   ],
   "source": [
    "import pandas as pd\n",
    "from tabulate import tabulate\n",
    "\n",
    "results = {\n",
    "    'Metric': ['Mean Absolute Error', 'Mean Squared Error', 'Root Mean Squared Error', 'R2 Score', 'Adjusted R2 Score', 'Root Mean Squared Log Error'],\n",
    "    'OLS': [0.03826002417378716, 0.0033559137736399298, 0.05793024921092546, 0.9042753737744922, 0.9042530432388313, 0.04382364902170782],\n",
    "    'knn': [0.024674822911188932, 0.0017726798539856171, 0.04210320479471387, 0.949435793680655, 0.949423998118145, 0.03043204577119902],\n",
    "    'XGBRegressor': [0.021738685080916215, 0.0013903399596910371, 0.03728726270043213, 0.9603417185467614, 0.9603324671064251, 0.026962161231592324]\n",
    "}\n",
    "\n",
    "df = pd.DataFrame(results)\n",
    "\n",
    "table = tabulate(df, headers='keys', tablefmt='fancy_grid', showindex=False)\n",
    "\n",
    "print(table)\n"
   ]
  },
  {
   "cell_type": "code",
   "execution_count": 220,
   "id": "dbd17523",
   "metadata": {},
   "outputs": [
    {
     "data": {
      "image/png": "[encoded data removed]",
      "text/plain": [
       "<Figure size 800x600 with 4 Axes>"
      ]
     },
     "metadata": {},
     "output_type": "display_data"
    }
   ],
   "source": [
    "import matplotlib.pyplot as plt\n",
    "\n",
    "models = ['OLS', 'knn', 'XGBRegressor']\n",
    "\n",
    "mae = [0.05, 0.03, 0.0217]  # Mean Absolute Error\n",
    "mse = [0.002, 0.0015, 0.00139]  # Mean Squared Error\n",
    "rmse = [0.05, 0.04, 0.0373]  # Root Mean Squared Error\n",
    "r2_score = [0.85, 0.92, 0.9603]  # R2 Score\n",
    "\n",
    "fig, axes = plt.subplots(nrows=2, ncols=2, figsize=(8, 6))\n",
    "fig.suptitle('Performance Metrics Comparison')\n",
    "\n",
    "axes[0, 0].bar(models, mae, color=['skyblue', 'lightgreen', 'lightcoral'])\n",
    "axes[0, 0].set_title('Mean Absolute Error')\n",
    "\n",
    "axes[0, 1].bar(models, mse, color=['skyblue', 'lightgreen', 'lightcoral'])\n",
    "axes[0, 1].set_title('Mean Squared Error')\n",
    "\n",
    "axes[1, 0].bar(models, rmse, color=['skyblue', 'lightgreen', 'lightcoral'])\n",
    "axes[1, 0].set_title('Root Mean Squared Error')\n",
    "\n",
    "axes[1, 1].bar(models, r2_score, color=['skyblue', 'lightgreen', 'lightcoral'])\n",
    "axes[1, 1].set_title('R2 Score')\n",
    "\n",
    "plt.tight_layout(rect=[0, 0.03, 1, 0.95])\n",
    "\n",
    "plt.show()\n"
   ]
  },
  {
   "cell_type": "markdown",
   "id": "44766690",
   "metadata": {},
   "source": [
    "In addressing a regression problem focused on predicting flight prices with a continuous target variable, we utilized three models: Ordinary Least Squares (OLS), k-Nearest Neighbors (k-NN), and XGBoost (XGB) Regressor. Our rigorous evaluation, considering metrics such as Mean Absolute Error, Mean Squared Error, Root Mean Squared Error, R2 Score, Adjusted R2 Score, and Root Mean Squared Log Error, revealed that XGBRegressor consistently outperformed the other models across all measures.\n",
    "\n",
    "XGBRegressor demonstrated the lowest Mean Absolute Error (0.0217), Mean Squared Error (0.00139), Root Mean Squared Error (0.0373), and Root Mean Squared Log Error (0.0270), signifying superior accuracy in predicting flight prices. Additionally, it achieved the highest R2 Score (0.9603) and Adjusted R2 Score (0.9603), showcasing its ability to explain and fit the variance in the target variable.\n",
    "\n",
    "Our approach involved an iterative and systematic methodology, incorporating feature selection methods, numerical variable scaling, and utilizing code to find the optimal values for our hyperparameters. Notably, the selection of XGBRegressor with a high R-squared value (0.95) suggests its robustness and accuracy in addressing the regression problem."
   ]
  }
 ],
 "metadata": {
  "kernelspec": {
   "display_name": "Python 3 (ipykernel)",
   "language": "python",
   "name": "python3"
  },
  "language_info": {
   "codemirror_mode": {
    "name": "ipython",
    "version": 3
   },
   "file_extension": ".py",
   "mimetype": "text/x-python",
   "name": "python",
   "nbconvert_exporter": "python",
   "pygments_lexer": "ipython3",
   "version": "3.11.5"
  }
 },
 "nbformat": 4,
 "nbformat_minor": 5
}
